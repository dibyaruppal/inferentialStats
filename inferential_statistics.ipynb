{
 "cells": [
  {
   "cell_type": "code",
   "execution_count": 14,
   "metadata": {},
   "outputs": [
    {
     "data": {
      "text/html": [
       "<div>\n",
       "<style scoped>\n",
       "    .dataframe tbody tr th:only-of-type {\n",
       "        vertical-align: middle;\n",
       "    }\n",
       "\n",
       "    .dataframe tbody tr th {\n",
       "        vertical-align: top;\n",
       "    }\n",
       "\n",
       "    .dataframe thead th {\n",
       "        text-align: right;\n",
       "    }\n",
       "</style>\n",
       "<table border=\"1\" class=\"dataframe\">\n",
       "  <thead>\n",
       "    <tr style=\"text-align: right;\">\n",
       "      <th></th>\n",
       "      <th>Center</th>\n",
       "      <th>Time</th>\n",
       "    </tr>\n",
       "  </thead>\n",
       "  <tbody>\n",
       "    <tr>\n",
       "      <th>0</th>\n",
       "      <td>Center A</td>\n",
       "      <td>217</td>\n",
       "    </tr>\n",
       "    <tr>\n",
       "      <th>1</th>\n",
       "      <td>Center A</td>\n",
       "      <td>84</td>\n",
       "    </tr>\n",
       "    <tr>\n",
       "      <th>2</th>\n",
       "      <td>Center A</td>\n",
       "      <td>169</td>\n",
       "    </tr>\n",
       "    <tr>\n",
       "      <th>3</th>\n",
       "      <td>Center A</td>\n",
       "      <td>96</td>\n",
       "    </tr>\n",
       "    <tr>\n",
       "      <th>4</th>\n",
       "      <td>Center A</td>\n",
       "      <td>177</td>\n",
       "    </tr>\n",
       "  </tbody>\n",
       "</table>\n",
       "</div>"
      ],
      "text/plain": [
       "     Center  Time\n",
       "0  Center A   217\n",
       "1  Center A    84\n",
       "2  Center A   169\n",
       "3  Center A    96\n",
       "4  Center A   177"
      ]
     },
     "execution_count": 14,
     "metadata": {},
     "output_type": "execute_result"
    }
   ],
   "source": [
    "#importing dataset into a data frame\n",
    "import pandas as pd\n",
    "calls = pd.read_csv('Customer Care.csv')\n",
    "\n",
    "calls.head()"
   ]
  },
  {
   "cell_type": "code",
   "execution_count": 15,
   "metadata": {},
   "outputs": [
    {
     "data": {
      "text/plain": [
       "Ttest_1sampResult(statistic=0.055325837266871875, pvalue=0.9561038538743873)"
      ]
     },
     "execution_count": 15,
     "metadata": {},
     "output_type": "execute_result"
    }
   ],
   "source": [
    "# One-sample T test and here 139 is the value of null hypothesis\n",
    "from scipy.stats import ttest_1samp\n",
    "ttest_1samp(calls.Time,139)"
   ]
  },
  {
   "cell_type": "code",
   "execution_count": 16,
   "metadata": {},
   "outputs": [
    {
     "data": {
      "text/plain": [
       "Ttest_indResult(statistic=-0.9332947511304974, pvalue=0.36470062559844785)"
      ]
     },
     "execution_count": 16,
     "metadata": {},
     "output_type": "execute_result"
    }
   ],
   "source": [
    "#Two Sample T test (By default equal_var=True)\n",
    "from scipy.stats import ttest_ind\n",
    "\n",
    "callsA=calls.loc[calls ['Center'] == 'Center A']\n",
    "callsB=calls.loc[calls ['Center'] == 'Center B']\n",
    "\n",
    "ttest_ind (callsA['Time'],callsB['Time'],equal_var=False)"
   ]
  },
  {
   "cell_type": "code",
   "execution_count": 17,
   "metadata": {},
   "outputs": [
    {
     "data": {
      "text/plain": [
       "Ttest_indResult(statistic=-0.9332947511304974, pvalue=0.36301919470577904)"
      ]
     },
     "execution_count": 17,
     "metadata": {},
     "output_type": "execute_result"
    }
   ],
   "source": [
    "ttest_ind (callsA['Time'],callsB['Time'],equal_var=True)"
   ]
  },
  {
   "cell_type": "code",
   "execution_count": 19,
   "metadata": {
    "scrolled": false
   },
   "outputs": [
    {
     "name": "stdout",
     "output_type": "stream",
     "text": [
      "Bartlett test for homogeneity of variance : \n",
      "\n",
      "BartlettResult(statistic=5.520269461407874, pvalue=0.23795351457242475)\n",
      "\n"
     ]
    }
   ],
   "source": [
    "#Bartlett test of homogeneity of variances\n",
    "from scipy.stats import bartlett\n",
    "\n",
    "callsA = calls.loc [calls ['Center'] == 'Center A']\n",
    "callsB = calls.loc [calls ['Center'] == 'Center B']\n",
    "callsC = calls.loc [calls ['Center'] == 'Center C']\n",
    "callsD = calls.loc [calls ['Center'] == 'Center D']\n",
    "callsE = calls.loc [calls ['Center'] == 'Center E']\n",
    "\n",
    "bartlett_test = bartlett(callsA['Time'],callsB['Time'],callsC['Time'],callsD['Time'],callsE['Time'])\n",
    "\n",
    "print('Bartlett test for homogeneity of variance : ')\n",
    "print('')\n",
    "print(bartlett_test)\n",
    "print('')"
   ]
  },
  {
   "cell_type": "code",
   "execution_count": 20,
   "metadata": {},
   "outputs": [
    {
     "name": "stdout",
     "output_type": "stream",
     "text": [
      "            df   sum_sq      mean_sq        F    PR(>F)\n",
      "Center     4.0  16247.8  4061.950000  3.27643  0.019315\n",
      "Residual  45.0  55788.7  1239.748889      NaN       NaN\n"
     ]
    }
   ],
   "source": [
    "#ANOVA table\n",
    "import statsmodels.formula.api as smf\n",
    "from statsmodels.stats.anova import anova_lm\n",
    "\n",
    "model = smf.ols('Time ~ Center',data=calls)\n",
    "results=model.fit()\n",
    "anova_table=anova_lm(results,typ=1)\n",
    "\n",
    "print(anova_table)"
   ]
  },
  {
   "cell_type": "code",
   "execution_count": null,
   "metadata": {},
   "outputs": [],
   "source": []
  }
 ],
 "metadata": {
  "kernelspec": {
   "display_name": "Python 3",
   "language": "python",
   "name": "python3"
  },
  "language_info": {
   "codemirror_mode": {
    "name": "ipython",
    "version": 3
   },
   "file_extension": ".py",
   "mimetype": "text/x-python",
   "name": "python",
   "nbconvert_exporter": "python",
   "pygments_lexer": "ipython3",
   "version": "3.7.0"
  }
 },
 "nbformat": 4,
 "nbformat_minor": 2
}
